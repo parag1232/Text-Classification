{
 "cells": [
  {
   "cell_type": "code",
   "execution_count": 324,
   "metadata": {},
   "outputs": [],
   "source": [
    "import nltk\n",
    "from nltk.corpus import movie_reviews\n",
    "import random\n",
    "from nltk.corpus import stopwords\n",
    "import re\n",
    "import pickle"
   ]
  },
  {
   "cell_type": "code",
   "execution_count": 61,
   "metadata": {},
   "outputs": [],
   "source": [
    "#Data collection\n",
    "documents=[[movie_reviews.words(fileid),category] for category in movie_reviews.categories() for fileid in movie_reviews.fileids(category)]"
   ]
  },
  {
   "cell_type": "code",
   "execution_count": 108,
   "metadata": {},
   "outputs": [],
   "source": [
    "#preprocessing\n",
    "random.shuffle(documents)\n",
    "words=stopwords.words(\"english\")\n",
    "k=re.compile(r\"[^a-zA-Z0-9]\")\n",
    "all_words=[]\n",
    "for i in movie_reviews.words():\n",
    "    if k.findall(i):\n",
    "        continue\n",
    "    elif i in words:\n",
    "        continue\n",
    "    else:\n",
    "        all_words.append(i.lower())"
   ]
  },
  {
   "cell_type": "code",
   "execution_count": 110,
   "metadata": {},
   "outputs": [],
   "source": [
    "#Frequency distribution using nltk\n",
    "all_words=nltk.FreqDist(all_words)\n",
    "all_words"
   ]
  },
  {
   "cell_type": "code",
   "execution_count": 303,
   "metadata": {},
   "outputs": [],
   "source": [
    "word_feature=list(all_words.keys())\n",
    "random.shuffle(word_feature)"
   ]
  },
  {
   "cell_type": "code",
   "execution_count": 136,
   "metadata": {},
   "outputs": [],
   "source": [
    "def find_features(document):\n",
    "    word=set(document)\n",
    "    features={}\n",
    "    for w in word_feature:\n",
    "        features[w]=(w in word)\n",
    "    return features    "
   ]
  },
  {
   "cell_type": "code",
   "execution_count": 251,
   "metadata": {},
   "outputs": [],
   "source": [
    "featuresets=[(find_features(i),j) for (i,j) in documents]"
   ]
  },
  {
   "cell_type": "code",
   "execution_count": 252,
   "metadata": {},
   "outputs": [],
   "source": [
    "#Creating Training and Testing Data\n",
    "trainingset=featuresets[:1900]\n",
    "testingset=featuresets[1900:]"
   ]
  },
  {
   "cell_type": "code",
   "execution_count": 254,
   "metadata": {},
   "outputs": [],
   "source": [
    "#Training the classifier\n",
    "clasifier=nltk.NaiveBayesClassifier.train(trainingset)"
   ]
  },
  {
   "cell_type": "code",
   "execution_count": 271,
   "metadata": {},
   "outputs": [
    {
     "data": {
      "text/plain": [
       "0.78"
      ]
     },
     "execution_count": 271,
     "metadata": {},
     "output_type": "execute_result"
    }
   ],
   "source": [
    "#Validation on testing set\n",
    "nltk.classify.accuracy(clasifier,testingset)"
   ]
  },
  {
   "cell_type": "code",
   "execution_count": 342,
   "metadata": {},
   "outputs": [],
   "source": [
    "# save classifier\n",
    "classi=open(\"Naive.pickle\",\"wb\")\n",
    "pickle.dump(clasifier,classi)\n",
    "classi.close()"
   ]
  }
 ],
 "metadata": {
  "kernelspec": {
   "display_name": "Python 3",
   "language": "python",
   "name": "python3"
  },
  "language_info": {
   "codemirror_mode": {
    "name": "ipython",
    "version": 3
   },
   "file_extension": ".py",
   "mimetype": "text/x-python",
   "name": "python",
   "nbconvert_exporter": "python",
   "pygments_lexer": "ipython3",
   "version": "3.6.5"
  }
 },
 "nbformat": 4,
 "nbformat_minor": 2
}
